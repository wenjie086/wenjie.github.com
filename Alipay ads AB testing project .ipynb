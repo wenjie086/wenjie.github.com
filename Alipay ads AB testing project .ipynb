{
 "cells": [
  {
   "cell_type": "code",
   "execution_count": null,
   "id": "8370928f",
   "metadata": {},
   "outputs": [],
   "source": [
    "# 1 项目背景介绍："
   ]
  },
  {
   "cell_type": "code",
   "execution_count": null,
   "id": "ed10939d",
   "metadata": {},
   "outputs": [],
   "source": [
    "# 本分析以支付宝营销活动为例，通过广告点击率指标比较两组营销策略的广告投放效果。"
   ]
  },
  {
   "cell_type": "code",
   "execution_count": 1,
   "id": "82736278",
   "metadata": {},
   "outputs": [],
   "source": [
    "# 2 数据预处理:"
   ]
  },
  {
   "cell_type": "code",
   "execution_count": 3,
   "id": "cd3ce068",
   "metadata": {},
   "outputs": [],
   "source": [
    "import pandas as pd \n",
    "import numpy as np\n",
    "import matplotlib.pyplot as plt \n",
    "%matplotlib inline "
   ]
  },
  {
   "cell_type": "code",
   "execution_count": 4,
   "id": "9192ed6d",
   "metadata": {},
   "outputs": [],
   "source": [
    "# 读取数据\n",
    "data = pd.read_csv('./effect_tb.csv', header=None)\n",
    "data.columns = [\"dt\",\"user_id\",\"label\",\"dmp_id\"]"
   ]
  },
  {
   "cell_type": "code",
   "execution_count": 5,
   "id": "a9c30d95",
   "metadata": {
    "scrolled": true
   },
   "outputs": [
    {
     "data": {
      "text/html": [
       "<div>\n",
       "<style scoped>\n",
       "    .dataframe tbody tr th:only-of-type {\n",
       "        vertical-align: middle;\n",
       "    }\n",
       "\n",
       "    .dataframe tbody tr th {\n",
       "        vertical-align: top;\n",
       "    }\n",
       "\n",
       "    .dataframe thead th {\n",
       "        text-align: right;\n",
       "    }\n",
       "</style>\n",
       "<table border=\"1\" class=\"dataframe\">\n",
       "  <thead>\n",
       "    <tr style=\"text-align: right;\">\n",
       "      <th></th>\n",
       "      <th>user_id</th>\n",
       "      <th>label</th>\n",
       "      <th>dmp_id</th>\n",
       "    </tr>\n",
       "  </thead>\n",
       "  <tbody>\n",
       "    <tr>\n",
       "      <th>0</th>\n",
       "      <td>1</td>\n",
       "      <td>0</td>\n",
       "      <td>1</td>\n",
       "    </tr>\n",
       "    <tr>\n",
       "      <th>1</th>\n",
       "      <td>1000004</td>\n",
       "      <td>0</td>\n",
       "      <td>1</td>\n",
       "    </tr>\n",
       "    <tr>\n",
       "      <th>2</th>\n",
       "      <td>1000004</td>\n",
       "      <td>0</td>\n",
       "      <td>2</td>\n",
       "    </tr>\n",
       "  </tbody>\n",
       "</table>\n",
       "</div>"
      ],
      "text/plain": [
       "   user_id  label  dmp_id\n",
       "0        1      0       1\n",
       "1  1000004      0       1\n",
       "2  1000004      0       2"
      ]
     },
     "execution_count": 5,
     "metadata": {},
     "output_type": "execute_result"
    }
   ],
   "source": [
    "# 删除不相关的“天数”属性一列:\n",
    "data = data.drop(columns= \"dt\")\n",
    "data.head(3)"
   ]
  },
  {
   "cell_type": "code",
   "execution_count": 6,
   "id": "66f5e5d6",
   "metadata": {},
   "outputs": [
    {
     "data": {
      "text/html": [
       "<div>\n",
       "<style scoped>\n",
       "    .dataframe tbody tr th:only-of-type {\n",
       "        vertical-align: middle;\n",
       "    }\n",
       "\n",
       "    .dataframe tbody tr th {\n",
       "        vertical-align: top;\n",
       "    }\n",
       "\n",
       "    .dataframe thead th {\n",
       "        text-align: right;\n",
       "    }\n",
       "</style>\n",
       "<table border=\"1\" class=\"dataframe\">\n",
       "  <thead>\n",
       "    <tr style=\"text-align: right;\">\n",
       "      <th></th>\n",
       "      <th>user_id</th>\n",
       "      <th>label</th>\n",
       "      <th>dmp_id</th>\n",
       "    </tr>\n",
       "  </thead>\n",
       "  <tbody>\n",
       "    <tr>\n",
       "      <th>count</th>\n",
       "      <td>2.645958e+06</td>\n",
       "      <td>2.645958e+06</td>\n",
       "      <td>2.645958e+06</td>\n",
       "    </tr>\n",
       "    <tr>\n",
       "      <th>mean</th>\n",
       "      <td>3.112995e+06</td>\n",
       "      <td>1.456297e-02</td>\n",
       "      <td>1.395761e+00</td>\n",
       "    </tr>\n",
       "    <tr>\n",
       "      <th>std</th>\n",
       "      <td>1.828262e+06</td>\n",
       "      <td>1.197952e-01</td>\n",
       "      <td>6.920480e-01</td>\n",
       "    </tr>\n",
       "    <tr>\n",
       "      <th>min</th>\n",
       "      <td>1.000000e+00</td>\n",
       "      <td>0.000000e+00</td>\n",
       "      <td>1.000000e+00</td>\n",
       "    </tr>\n",
       "    <tr>\n",
       "      <th>25%</th>\n",
       "      <td>1.526772e+06</td>\n",
       "      <td>0.000000e+00</td>\n",
       "      <td>1.000000e+00</td>\n",
       "    </tr>\n",
       "    <tr>\n",
       "      <th>50%</th>\n",
       "      <td>3.062184e+06</td>\n",
       "      <td>0.000000e+00</td>\n",
       "      <td>1.000000e+00</td>\n",
       "    </tr>\n",
       "    <tr>\n",
       "      <th>75%</th>\n",
       "      <td>4.721132e+06</td>\n",
       "      <td>0.000000e+00</td>\n",
       "      <td>2.000000e+00</td>\n",
       "    </tr>\n",
       "    <tr>\n",
       "      <th>max</th>\n",
       "      <td>6.265402e+06</td>\n",
       "      <td>1.000000e+00</td>\n",
       "      <td>3.000000e+00</td>\n",
       "    </tr>\n",
       "  </tbody>\n",
       "</table>\n",
       "</div>"
      ],
      "text/plain": [
       "            user_id         label        dmp_id\n",
       "count  2.645958e+06  2.645958e+06  2.645958e+06\n",
       "mean   3.112995e+06  1.456297e-02  1.395761e+00\n",
       "std    1.828262e+06  1.197952e-01  6.920480e-01\n",
       "min    1.000000e+00  0.000000e+00  1.000000e+00\n",
       "25%    1.526772e+06  0.000000e+00  1.000000e+00\n",
       "50%    3.062184e+06  0.000000e+00  1.000000e+00\n",
       "75%    4.721132e+06  0.000000e+00  2.000000e+00\n",
       "max    6.265402e+06  1.000000e+00  3.000000e+00"
      ]
     },
     "execution_count": 6,
     "metadata": {},
     "output_type": "execute_result"
    }
   ],
   "source": [
    "#查看表格数据一般描述：\n",
    "\n",
    "data.describe()"
   ]
  },
  {
   "cell_type": "code",
   "execution_count": 7,
   "id": "a1629729",
   "metadata": {},
   "outputs": [
    {
     "data": {
      "text/plain": [
       "(2645958, 3)"
      ]
     },
     "execution_count": 7,
     "metadata": {},
     "output_type": "execute_result"
    }
   ],
   "source": [
    "# 重复值检验 & 删除重复值：\n",
    "data.shape"
   ]
  },
  {
   "cell_type": "code",
   "execution_count": 8,
   "id": "60207d1a",
   "metadata": {},
   "outputs": [
    {
     "data": {
      "text/plain": [
       "user_id    2410683\n",
       "label            2\n",
       "dmp_id           3\n",
       "dtype: int64"
      ]
     },
     "execution_count": 8,
     "metadata": {},
     "output_type": "execute_result"
    }
   ],
   "source": [
    "data.nunique()"
   ]
  },
  {
   "cell_type": "code",
   "execution_count": 9,
   "id": "d621a0c6",
   "metadata": {},
   "outputs": [
    {
     "data": {
      "text/html": [
       "<div>\n",
       "<style scoped>\n",
       "    .dataframe tbody tr th:only-of-type {\n",
       "        vertical-align: middle;\n",
       "    }\n",
       "\n",
       "    .dataframe tbody tr th {\n",
       "        vertical-align: top;\n",
       "    }\n",
       "\n",
       "    .dataframe thead th {\n",
       "        text-align: right;\n",
       "    }\n",
       "</style>\n",
       "<table border=\"1\" class=\"dataframe\">\n",
       "  <thead>\n",
       "    <tr style=\"text-align: right;\">\n",
       "      <th></th>\n",
       "      <th>user_id</th>\n",
       "      <th>label</th>\n",
       "      <th>dmp_id</th>\n",
       "    </tr>\n",
       "  </thead>\n",
       "  <tbody>\n",
       "    <tr>\n",
       "      <th>8529</th>\n",
       "      <td>1027</td>\n",
       "      <td>0</td>\n",
       "      <td>1</td>\n",
       "    </tr>\n",
       "    <tr>\n",
       "      <th>1485546</th>\n",
       "      <td>1027</td>\n",
       "      <td>0</td>\n",
       "      <td>1</td>\n",
       "    </tr>\n",
       "    <tr>\n",
       "      <th>1579415</th>\n",
       "      <td>1471</td>\n",
       "      <td>0</td>\n",
       "      <td>1</td>\n",
       "    </tr>\n",
       "    <tr>\n",
       "      <th>127827</th>\n",
       "      <td>1471</td>\n",
       "      <td>0</td>\n",
       "      <td>1</td>\n",
       "    </tr>\n",
       "    <tr>\n",
       "      <th>404862</th>\n",
       "      <td>2468</td>\n",
       "      <td>0</td>\n",
       "      <td>1</td>\n",
       "    </tr>\n",
       "    <tr>\n",
       "      <th>...</th>\n",
       "      <td>...</td>\n",
       "      <td>...</td>\n",
       "      <td>...</td>\n",
       "    </tr>\n",
       "    <tr>\n",
       "      <th>1382121</th>\n",
       "      <td>6264633</td>\n",
       "      <td>0</td>\n",
       "      <td>1</td>\n",
       "    </tr>\n",
       "    <tr>\n",
       "      <th>1382245</th>\n",
       "      <td>6264940</td>\n",
       "      <td>0</td>\n",
       "      <td>1</td>\n",
       "    </tr>\n",
       "    <tr>\n",
       "      <th>2575140</th>\n",
       "      <td>6264940</td>\n",
       "      <td>0</td>\n",
       "      <td>1</td>\n",
       "    </tr>\n",
       "    <tr>\n",
       "      <th>1382306</th>\n",
       "      <td>6265082</td>\n",
       "      <td>0</td>\n",
       "      <td>3</td>\n",
       "    </tr>\n",
       "    <tr>\n",
       "      <th>2575171</th>\n",
       "      <td>6265082</td>\n",
       "      <td>0</td>\n",
       "      <td>3</td>\n",
       "    </tr>\n",
       "  </tbody>\n",
       "</table>\n",
       "<p>25966 rows × 3 columns</p>\n",
       "</div>"
      ],
      "text/plain": [
       "         user_id  label  dmp_id\n",
       "8529        1027      0       1\n",
       "1485546     1027      0       1\n",
       "1579415     1471      0       1\n",
       "127827      1471      0       1\n",
       "404862      2468      0       1\n",
       "...          ...    ...     ...\n",
       "1382121  6264633      0       1\n",
       "1382245  6264940      0       1\n",
       "2575140  6264940      0       1\n",
       "1382306  6265082      0       3\n",
       "2575171  6265082      0       3\n",
       "\n",
       "[25966 rows x 3 columns]"
      ]
     },
     "execution_count": 9,
     "metadata": {},
     "output_type": "execute_result"
    }
   ],
   "source": [
    "data[data.duplicated(keep=False)].sort_values(by = [\"user_id\"])"
   ]
  },
  {
   "cell_type": "code",
   "execution_count": 10,
   "id": "c519b2b1",
   "metadata": {},
   "outputs": [],
   "source": [
    "data = data.drop_duplicates()"
   ]
  },
  {
   "cell_type": "code",
   "execution_count": 11,
   "id": "45fd2de2",
   "metadata": {},
   "outputs": [
    {
     "data": {
      "text/html": [
       "<div>\n",
       "<style scoped>\n",
       "    .dataframe tbody tr th:only-of-type {\n",
       "        vertical-align: middle;\n",
       "    }\n",
       "\n",
       "    .dataframe tbody tr th {\n",
       "        vertical-align: top;\n",
       "    }\n",
       "\n",
       "    .dataframe thead th {\n",
       "        text-align: right;\n",
       "    }\n",
       "</style>\n",
       "<table border=\"1\" class=\"dataframe\">\n",
       "  <thead>\n",
       "    <tr style=\"text-align: right;\">\n",
       "      <th></th>\n",
       "      <th>user_id</th>\n",
       "      <th>label</th>\n",
       "      <th>dmp_id</th>\n",
       "    </tr>\n",
       "  </thead>\n",
       "  <tbody>\n",
       "  </tbody>\n",
       "</table>\n",
       "</div>"
      ],
      "text/plain": [
       "Empty DataFrame\n",
       "Columns: [user_id, label, dmp_id]\n",
       "Index: []"
      ]
     },
     "execution_count": 11,
     "metadata": {},
     "output_type": "execute_result"
    }
   ],
   "source": [
    "data[data.duplicated(keep=False)]   \n",
    "    # 确认没有任何其他的重复值。"
   ]
  },
  {
   "cell_type": "code",
   "execution_count": 14,
   "id": "6c2834ad",
   "metadata": {
    "scrolled": false
   },
   "outputs": [
    {
     "name": "stdout",
     "output_type": "stream",
     "text": [
      "<class 'pandas.core.frame.DataFrame'>\n",
      "Int64Index: 2632975 entries, 0 to 2645957\n",
      "Data columns (total 3 columns):\n",
      " #   Column   Non-Null Count    Dtype\n",
      "---  ------   --------------    -----\n",
      " 0   user_id  2632975 non-null  int64\n",
      " 1   label    2632975 non-null  int64\n",
      " 2   dmp_id   2632975 non-null  int64\n",
      "dtypes: int64(3)\n",
      "memory usage: 144.9 MB\n"
     ]
    }
   ],
   "source": [
    "# 确认空缺值数据：\n",
    "data.info(show_counts= True)       \n",
    "    #数据并无空值，无需进行处理。"
   ]
  },
  {
   "cell_type": "code",
   "execution_count": 15,
   "id": "96750095",
   "metadata": {},
   "outputs": [
    {
     "data": {
      "text/html": [
       "<div>\n",
       "<style scoped>\n",
       "    .dataframe tbody tr th:only-of-type {\n",
       "        vertical-align: middle;\n",
       "    }\n",
       "\n",
       "    .dataframe tbody tr th {\n",
       "        vertical-align: top;\n",
       "    }\n",
       "\n",
       "    .dataframe thead th {\n",
       "        text-align: right;\n",
       "    }\n",
       "</style>\n",
       "<table border=\"1\" class=\"dataframe\">\n",
       "  <thead>\n",
       "    <tr style=\"text-align: right;\">\n",
       "      <th>label</th>\n",
       "      <th>0</th>\n",
       "      <th>1</th>\n",
       "      <th>All</th>\n",
       "    </tr>\n",
       "    <tr>\n",
       "      <th>dmp_id</th>\n",
       "      <th></th>\n",
       "      <th></th>\n",
       "      <th></th>\n",
       "    </tr>\n",
       "  </thead>\n",
       "  <tbody>\n",
       "    <tr>\n",
       "      <th>1</th>\n",
       "      <td>1881745</td>\n",
       "      <td>23918</td>\n",
       "      <td>1905663</td>\n",
       "    </tr>\n",
       "    <tr>\n",
       "      <th>2</th>\n",
       "      <td>404811</td>\n",
       "      <td>6296</td>\n",
       "      <td>411107</td>\n",
       "    </tr>\n",
       "    <tr>\n",
       "      <th>3</th>\n",
       "      <td>307923</td>\n",
       "      <td>8282</td>\n",
       "      <td>316205</td>\n",
       "    </tr>\n",
       "    <tr>\n",
       "      <th>All</th>\n",
       "      <td>2594479</td>\n",
       "      <td>38496</td>\n",
       "      <td>2632975</td>\n",
       "    </tr>\n",
       "  </tbody>\n",
       "</table>\n",
       "</div>"
      ],
      "text/plain": [
       "label         0      1      All\n",
       "dmp_id                         \n",
       "1       1881745  23918  1905663\n",
       "2        404811   6296   411107\n",
       "3        307923   8282   316205\n",
       "All     2594479  38496  2632975"
      ]
     },
     "execution_count": 15,
     "metadata": {},
     "output_type": "execute_result"
    }
   ],
   "source": [
    "# 异常值检测：\n",
    "data.pivot_table(index= \"dmp_id\",columns=\"label\",values= \"user_id\",aggfunc= \"count\",margins=True)\n",
    "    # 字段并未发现异常值，无需进行处理。"
   ]
  },
  {
   "cell_type": "code",
   "execution_count": 16,
   "id": "5cb75bef",
   "metadata": {},
   "outputs": [
    {
     "data": {
      "text/plain": [
       "user_id    int64\n",
       "label      int64\n",
       "dmp_id     int64\n",
       "dtype: object"
      ]
     },
     "execution_count": 16,
     "metadata": {},
     "output_type": "execute_result"
    }
   ],
   "source": [
    "# 数据类型检测：\n",
    "data.dtypes\n",
    "    #数据类型正常，无需处理。"
   ]
  },
  {
   "cell_type": "code",
   "execution_count": 18,
   "id": "2b194a1c",
   "metadata": {},
   "outputs": [
    {
     "data": {
      "text/plain": [
       "0.012551012429794775"
      ]
     },
     "execution_count": 18,
     "metadata": {},
     "output_type": "execute_result"
    }
   ],
   "source": [
    "# 样本容量检测：\n",
    "# a)首先以对照组的点击率设置为基准线:\n",
    "data[data[\"dmp_id\"]== 1][\"label\"].mean()"
   ]
  },
  {
   "cell_type": "code",
   "execution_count": 19,
   "id": "5a2bfb79",
   "metadata": {},
   "outputs": [],
   "source": [
    "#得到的对照组点击率为1.26%，假设我们希望新的营销策略可以让广告点击率提升至少！%的话，\n",
    "#那么接下来我们可以通过输入点击率基准线&最小提升比例来得到我们想要的最小样本量。\n",
    "#这里用到的测算最小样本量的工具为：Evan Miller样本量计算工具。\n",
    "#具体链接如下：https://www.evanmiller.org/ab-testing/sample-size.html\n",
    "#那么通过工具我们得知，最小样本量应该为：2167"
   ]
  },
  {
   "cell_type": "code",
   "execution_count": 20,
   "id": "59260a10",
   "metadata": {},
   "outputs": [
    {
     "data": {
      "text/plain": [
       "1    1905663\n",
       "2     411107\n",
       "3     316205\n",
       "Name: dmp_id, dtype: int64"
      ]
     },
     "execution_count": 20,
     "metadata": {},
     "output_type": "execute_result"
    }
   ],
   "source": [
    "# 验证营销活动的样本量是否满足最小样本量的条件：\n",
    "data[\"dmp_id\"].value_counts()\n",
    "    #两场营销活动的样本量分别为41.11万和31.62万。满足最小样本量的条件。"
   ]
  },
  {
   "cell_type": "code",
   "execution_count": 21,
   "id": "7398b86b",
   "metadata": {},
   "outputs": [],
   "source": [
    "data.to_csv(\"./output.csv\", index= False)"
   ]
  },
  {
   "cell_type": "code",
   "execution_count": 22,
   "id": "d3035555",
   "metadata": {},
   "outputs": [],
   "source": [
    "data= pd.read_csv(\"./output.csv\")"
   ]
  },
  {
   "cell_type": "code",
   "execution_count": null,
   "id": "0dade917",
   "metadata": {},
   "outputs": [],
   "source": []
  },
  {
   "cell_type": "code",
   "execution_count": 23,
   "id": "78e3331e",
   "metadata": {},
   "outputs": [],
   "source": [
    "# 3 假设检验"
   ]
  },
  {
   "cell_type": "code",
   "execution_count": 24,
   "id": "63aab931",
   "metadata": {},
   "outputs": [
    {
     "name": "stdout",
     "output_type": "stream",
     "text": [
      "对照组： 0.012551012429794775\n",
      "营销策略组一： 0.015314747742072015\n",
      "营销策略组二： 0.026191869198779274\n"
     ]
    }
   ],
   "source": [
    "# 3.1 观察几组实验的点击率情况：\n",
    "print(\"对照组：\",data[data[\"dmp_id\"]==1][\"label\"].mean())\n",
    "print(\"营销策略组一：\", data[data[\"dmp_id\"]== 2][\"label\"].mean())\n",
    "print(\"营销策略组二：\", data[data[\"dmp_id\"]== 3][\"label\"].mean())"
   ]
  },
  {
   "cell_type": "code",
   "execution_count": 25,
   "id": "21dc220f",
   "metadata": {},
   "outputs": [],
   "source": [
    "# 总体来说，策略一和策略二的点击率相对于对照组都有所提升。\n",
    "# 不同的是，策略一提升了约0.2%；而策略二提升了约1.3%。\n",
    "# 因此，策略二满足了前边我们提到的对于“点击率提升最小值”的要求。\n",
    "# 接下来需要进行假设检验，看策略二点击率的提升是否显著。"
   ]
  },
  {
   "cell_type": "code",
   "execution_count": 26,
   "id": "a3eeaef9",
   "metadata": {},
   "outputs": [],
   "source": [
    "# 3.2:假设检验："
   ]
  },
  {
   "cell_type": "code",
   "execution_count": 27,
   "id": "306687ec",
   "metadata": {},
   "outputs": [],
   "source": [
    "# 3.2.1 零假设和备择假设：\n",
    "#记对照组点击率为 p1，策略二点击率为 p2，则：\n",
    "#零假设 H0： p1 ≥ p2\n",
    "#备择假设 H1： p1 ＜ p2"
   ]
  },
  {
   "cell_type": "code",
   "execution_count": 28,
   "id": "ad1e8591",
   "metadata": {},
   "outputs": [],
   "source": [
    "# 3.2.2 检验类型&显著性水平：\n",
    "#样本大小n> 30,总体均值和标准差未知，所以采用 Z检验。显著性水平α取 0.05。"
   ]
  },
  {
   "cell_type": "code",
   "execution_count": 29,
   "id": "db8efd59",
   "metadata": {},
   "outputs": [],
   "source": [
    "# 3.2.3 计算用户数，点击数，点击率，总和点击率："
   ]
  },
  {
   "cell_type": "code",
   "execution_count": 30,
   "id": "ddca605f",
   "metadata": {},
   "outputs": [],
   "source": [
    "# 用户数：\n",
    "n_old = len(data[data.dmp_id ==1])  #对照组\n",
    "n_new = len(data[data.dmp_id ==3])  #策略二"
   ]
  },
  {
   "cell_type": "code",
   "execution_count": 38,
   "id": "04625cd5",
   "metadata": {},
   "outputs": [
    {
     "name": "stderr",
     "output_type": "stream",
     "text": [
      "<ipython-input-38-f98909f9b1e1>:2: UserWarning: Boolean Series key will be reindexed to match DataFrame index.\n",
      "  c_old = len(data[data.dmp_id ==1][data.label ==1])\n",
      "<ipython-input-38-f98909f9b1e1>:3: UserWarning: Boolean Series key will be reindexed to match DataFrame index.\n",
      "  c_new = len(data[data.dmp_id ==3][data.label ==1])\n"
     ]
    }
   ],
   "source": [
    "# 点击数：\n",
    "c_old = len(data[data.dmp_id ==1][data.label ==1])\n",
    "c_new = len(data[data.dmp_id ==3][data.label ==1])"
   ]
  },
  {
   "cell_type": "code",
   "execution_count": 32,
   "id": "05f5d28a",
   "metadata": {},
   "outputs": [],
   "source": [
    "# 计算点击率：\n",
    "r_old = c_old/n_old\n",
    "r_new = c_new/n_new"
   ]
  },
  {
   "cell_type": "code",
   "execution_count": 33,
   "id": "3c95f526",
   "metadata": {},
   "outputs": [],
   "source": [
    "# 总和点击率：\n",
    "r = (c_old+c_new)/(n_old+n_new)"
   ]
  },
  {
   "cell_type": "code",
   "execution_count": 34,
   "id": "efed21ef",
   "metadata": {},
   "outputs": [
    {
     "name": "stdout",
     "output_type": "stream",
     "text": [
      "总和点击率： 0.014492310074225832\n"
     ]
    }
   ],
   "source": [
    "print(\"总和点击率：\",r)"
   ]
  },
  {
   "cell_type": "code",
   "execution_count": 36,
   "id": "763eaa28",
   "metadata": {},
   "outputs": [
    {
     "name": "stdout",
     "output_type": "stream",
     "text": [
      "检验统计量z: -59.44168632985996\n"
     ]
    }
   ],
   "source": [
    "#3.2.4 计算检验统计量Z:\n",
    "z= (r_old-r_new)/ np.sqrt(r*(1-r)*(1/n_old + 1/n_new))\n",
    "print (\"检验统计量z:\", z)"
   ]
  },
  {
   "cell_type": "code",
   "execution_count": 37,
   "id": "fa98d086",
   "metadata": {},
   "outputs": [
    {
     "data": {
      "text/plain": [
       "-1.6448536269514729"
      ]
     },
     "execution_count": 37,
     "metadata": {},
     "output_type": "execute_result"
    }
   ],
   "source": [
    "# a=0.05是对应的z分位数为：\n",
    "from  scipy.stats import norm\n",
    "z_alpha = norm.ppf(0.05) \n",
    "z_alpha"
   ]
  },
  {
   "cell_type": "code",
   "execution_count": 39,
   "id": "c4e4195d",
   "metadata": {},
   "outputs": [],
   "source": [
    "# z_alpha = -1.64,检验统计量z = -59.44。\n",
    "#该检验为左侧单尾检验，拒绝域为{z＜z_alpha}。\n",
    "# 因此，我们可以得出的结论是：原假设不成立，策略二点击率的提升在统计上是显著的。"
   ]
  },
  {
   "cell_type": "code",
   "execution_count": null,
   "id": "79da38e8",
   "metadata": {},
   "outputs": [],
   "source": [
    "# 4 结论：\n",
    "# 通过上述的ab实验计算，我们可以得知：\n",
    "# 两种营销策略中，只有策略二是对广告点击率有显著提升效果的。相较于对照组点击率提升了近一倍。（1.25% to 2.61%）\n",
    "# 因而在两组营销策略中应该选择第二种进行推广。"
   ]
  }
 ],
 "metadata": {
  "kernelspec": {
   "display_name": "Python 3",
   "language": "python",
   "name": "python3"
  },
  "language_info": {
   "codemirror_mode": {
    "name": "ipython",
    "version": 3
   },
   "file_extension": ".py",
   "mimetype": "text/x-python",
   "name": "python",
   "nbconvert_exporter": "python",
   "pygments_lexer": "ipython3",
   "version": "3.8.8"
  }
 },
 "nbformat": 4,
 "nbformat_minor": 5
}
